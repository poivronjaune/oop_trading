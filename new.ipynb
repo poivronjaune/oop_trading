{
 "cells": [
  {
   "cell_type": "markdown",
   "metadata": {},
   "source": [
    "# New notebook"
   ]
  },
  {
   "cell_type": "code",
   "execution_count": 41,
   "metadata": {},
   "outputs": [],
   "source": [
    "import datetime\n",
    "\n",
    "import pandas as pd\n",
    "import sqlite3 as db\n",
    "import yfinance as yf\n",
    "\n",
    "from sqlalchemy import create_engine\n",
    "file_storage = \"test2\"\n"
   ]
  },
  {
   "cell_type": "code",
   "execution_count": null,
   "metadata": {},
   "outputs": [],
   "source": [
    "symbols_data = [\n",
    "        {\n",
    "            \"Symbol\": \"A\",\n",
    "            \"Name\": \"Agilent Technologies Inc\",\n",
    "            \"ListedDt\": datetime.datetime(2005, 1, 3).isoformat(),\n",
    "            \"LastDt\": datetime.datetime(2022, 9, 6).isoformat(),\n",
    "            \"Status\": \"Active\",\n",
    "        },\n",
    "        {\n",
    "            \"Symbol\": \"AA\",\n",
    "            \"Name\": \"Alcoa Corporation\",\n",
    "            \"ListedDt\": datetime.datetime(2016, 10, 18).isoformat(),\n",
    "            \"LastDt\": datetime.datetime(2022, 9, 6).isoformat(),\n",
    "            \"Status\": \"Active\",\n",
    "        },\n",
    "        {\n",
    "            \"Symbol\": \"ZGNX\",\n",
    "            \"Name\": \"Zogenix\",\n",
    "            \"ListedDt\": datetime.datetime(2010, 11, 23).isoformat(),\n",
    "            \"LastDt\": datetime.datetime(2022, 3, 4).isoformat(),\n",
    "            \"Status\": \"Active\",\n",
    "        }\n",
    "    ]\n",
    "\n",
    "update_data = [\n",
    "        {\n",
    "            \"Symbol\": \"AA\",\n",
    "            \"Name\": \"Updated Alcoa Corporation\",\n",
    "            \"ListedDt\": datetime.datetime(2022, 10, 18).isoformat(),\n",
    "            \"LastDt\": datetime.datetime(2022, 9, 6).isoformat(),\n",
    "            \"Status\": \"Active\",\n",
    "        },\n",
    "        {\n",
    "            \"Symbol\": \"ZGNX\",\n",
    "            \"Name\": \"Updated Zogenix\",\n",
    "            \"ListedDt\": datetime.datetime(2012, 11, 23).isoformat(),\n",
    "            \"LastDt\": datetime.datetime(2022, 3, 4).isoformat(),\n",
    "            \"Status\": \"Active\",\n",
    "        },\n",
    "        {\n",
    "            \"Symbol\": \"BC\",\n",
    "            \"Name\": \"Basic Company\",\n",
    "            \"ListedDt\": datetime.datetime(2021, 1, 1).isoformat(),\n",
    "            \"LastDt\": datetime.datetime(2022, 3, 4).isoformat(),\n",
    "            \"Status\": \"Active\",\n",
    "        }\n",
    "    ]"
   ]
  },
  {
   "cell_type": "code",
   "execution_count": null,
   "metadata": {},
   "outputs": [],
   "source": [
    "source = pd.DataFrame(symbols_data)\n",
    "new_data = pd.DataFrame(update_data)"
   ]
  },
  {
   "cell_type": "code",
   "execution_count": null,
   "metadata": {},
   "outputs": [],
   "source": [
    "suffixe_new = '_new'\n",
    "cols_old = source.columns\n",
    "cols_new = [f\"{col}{suffixe_new}\" for col in cols_old]\n",
    "cols_new[0] = cols_old[0]"
   ]
  },
  {
   "cell_type": "code",
   "execution_count": null,
   "metadata": {},
   "outputs": [],
   "source": [
    "cols_old"
   ]
  },
  {
   "cell_type": "code",
   "execution_count": null,
   "metadata": {},
   "outputs": [],
   "source": [
    "cols_new"
   ]
  },
  {
   "cell_type": "code",
   "execution_count": null,
   "metadata": {},
   "outputs": [],
   "source": [
    "merged = pd.merge(source, new_data, on='Symbol', how='outer', indicator=True, suffixes=['', '_new'])\n",
    "merged"
   ]
  },
  {
   "cell_type": "code",
   "execution_count": null,
   "metadata": {},
   "outputs": [],
   "source": [
    "old = merged.loc[merged._merge == 'left_only'][cols_old]\n",
    "old"
   ]
  },
  {
   "cell_type": "code",
   "execution_count": null,
   "metadata": {},
   "outputs": [],
   "source": [
    "updates = merged.loc[merged._merge == 'both'][cols_new]\n",
    "updates.columns = cols_old\n",
    "updates"
   ]
  },
  {
   "cell_type": "code",
   "execution_count": null,
   "metadata": {},
   "outputs": [],
   "source": [
    "new_sym = merged.loc[merged._merge == 'right_only'][cols_new]\n",
    "new_sym.columns = cols_old\n",
    "new_sym"
   ]
  },
  {
   "cell_type": "code",
   "execution_count": null,
   "metadata": {},
   "outputs": [],
   "source": [
    "new_save = pd.concat([old, updates, new_sym], ignore_index=True)\n",
    "new_save"
   ]
  },
  {
   "cell_type": "code",
   "execution_count": null,
   "metadata": {},
   "outputs": [],
   "source": [
    "df1 = pd.DataFrame(symbols_data)\n",
    "df2 = pd.DataFrame(update_data)\n",
    "set1 = set()\n",
    "set1.update(df1.Symbol)\n",
    "set1.update(df2.Symbol)\n",
    "set1\n"
   ]
  },
  {
   "cell_type": "markdown",
   "metadata": {},
   "source": [
    "# YAHOO SECTOR INFO"
   ]
  },
  {
   "cell_type": "code",
   "execution_count": null,
   "metadata": {},
   "outputs": [],
   "source": [
    "import datetime\n",
    "\n",
    "import pandas as pd\n",
    "import yfinance as yf"
   ]
  },
  {
   "cell_type": "code",
   "execution_count": null,
   "metadata": {},
   "outputs": [],
   "source": [
    "t1 = yf.Ticker('ZGNX')\n",
    "t1.info"
   ]
  },
  {
   "cell_type": "code",
   "execution_count": null,
   "metadata": {},
   "outputs": [],
   "source": [
    "t1 = yf.Ticker('BBDD.L')\n",
    "print(t1.info.get('exchange'))\n",
    "print(t1.info.get('longName'))\n",
    "t1.info.keys()"
   ]
  },
  {
   "cell_type": "code",
   "execution_count": null,
   "metadata": {},
   "outputs": [],
   "source": [
    "def get_sector_info(ticker):\n",
    "    t1 = yf.Ticker(ticker)\n",
    "\n",
    "    info_dict = {\n",
    "    'Symbol': [ticker], \n",
    "    'Sector': [t1.info.get('sector')], \n",
    "    'Indutry': [t1.info.get('industry')],\n",
    "    'QuoteType': [t1.info.get('quoteType')]\n",
    "    }\n",
    "\n",
    "    return pd.DataFrame(info_dict)\n",
    "\n",
    "    \n",
    "    "
   ]
  },
  {
   "cell_type": "code",
   "execution_count": null,
   "metadata": {},
   "outputs": [],
   "source": [
    "df = get_sector_info('TSLA')\n",
    "df"
   ]
  },
  {
   "cell_type": "code",
   "execution_count": null,
   "metadata": {},
   "outputs": [],
   "source": [
    "symbols = pd.read_csv(f'data/nasdaq.csv', index_col=False)"
   ]
  },
  {
   "cell_type": "code",
   "execution_count": null,
   "metadata": {},
   "outputs": [],
   "source": [
    "yahoo_codes = [\n",
    "    {'Code': 'NASDAQ', 'Name':'NASDAQ Stock Exchange', 'Country':'USA', 'Suffix':''},\n",
    "    {'Code': 'AMEX', 'Name':'American Stock Exchange', 'Country':'USA', 'Suffix':''},\n",
    "    {'Code': 'ASX', 'Name':'Australian Stock Exchange', 'Country':'Australia', 'Suffix':'.AX'},\n",
    "    {'Code': 'LSE', 'Name':'London Stock Exchange', 'Country':'United Kingdom', 'Suffix':'.L'},\n",
    "    {'Code': 'NYSE', 'Name':'New York Stock Exchange', 'Country':'USA', 'Suffix':''},\n",
    "    {'Code': 'SGX', 'Name':'Singapore Stock Exchange', 'Country':'Republic of Singapore', 'Suffix':'.SI'},\n",
    "    {'Code': 'TSX', 'Name':'Toronto Stock Exchange', 'Country':'Canada', 'Suffix':'.TO'},\n",
    "    {'Code': 'TSXV', 'Name':'Toronto Venture Exchange', 'Country':'Canada', 'Suffix':'.V'},\n",
    "]"
   ]
  },
  {
   "cell_type": "code",
   "execution_count": null,
   "metadata": {},
   "outputs": [],
   "source": [
    "from backtest_lib.symbols import OnlineSymbolsSource, EndOfDayData, FirstRateData\n"
   ]
  },
  {
   "cell_type": "code",
   "execution_count": null,
   "metadata": {},
   "outputs": [],
   "source": [
    "df = EndOfDayData(exchange='NASDAQ')\n",
    "df.load_from_csv('data','nasdaq.csv')\n",
    "df.augment_symbols_data()\n",
    "#print(df.data)"
   ]
  },
  {
   "cell_type": "code",
   "execution_count": 36,
   "metadata": {},
   "outputs": [],
   "source": [
    "import pandas as pd\n",
    "import yfinance as yf\n"
   ]
  },
  {
   "cell_type": "code",
   "execution_count": 6,
   "metadata": {},
   "outputs": [],
   "source": [
    "yahoo_ticker = 'AAB.TO'\n",
    "exchange = 'TSX'\n",
    "yahoo = yf.Ticker(yahoo_ticker)"
   ]
  },
  {
   "cell_type": "code",
   "execution_count": 55,
   "metadata": {},
   "outputs": [],
   "source": [
    "base_info = {\n",
    "    'Symbol':'A',\n",
    "    'Name':'Agilent Technologies Inc',\n",
    "    'ListedDt':'2005-01-03T00:00:00',\n",
    "    'LastDt':'2022-09-22T00:00:00',\n",
    "    'Status':'Active'\n",
    "}\n",
    "base_serie = pd.Series(base_info)\n",
    "sym_info = {\n",
    "    'Sector': yahoo.info.get('sector'),\n",
    "    'Industry': yahoo.info.get('industry'),\n",
    "    'Type': yahoo.info.get('quoteType'),\n",
    "    'Source': yahoo.info.get('quoteTypeSourceName'),\n",
    "    'Website': yahoo.info.get('website'),\n",
    "    'LogoUrl': yahoo.info.get('logo_url'),\n",
    "    'Exchange': yahoo.info.get('exchange'),\n",
    "    'ShortName': yahoo.info.get('shortName'),\n",
    "    'LongName': yahoo.info.get('longName'),\n",
    "    'Market': yahoo.info.get('market'),\n",
    "    'FundFamily': yahoo.info.get('fundFamily'),\n",
    "    'MarketCap': yahoo.info.get('marketCap'),\n",
    "    'YahooTicker': yahoo_ticker,\n",
    "    'ExchangeCode': exchange\n",
    "}\n",
    "sym_serie = pd.Series(sym_info)\n"
   ]
  },
  {
   "cell_type": "code",
   "execution_count": 57,
   "metadata": {},
   "outputs": [
    {
     "name": "stdout",
     "output_type": "stream",
     "text": [
      "<class 'dict'>, <class 'dict'>\n"
     ]
    }
   ],
   "source": [
    "print(f\"{type(base_info)}, {type(sym_info)}\")"
   ]
  },
  {
   "cell_type": "code",
   "execution_count": 56,
   "metadata": {},
   "outputs": [
    {
     "name": "stdout",
     "output_type": "stream",
     "text": [
      "<class 'pandas.core.series.Series'>, <class 'pandas.core.series.Series'>\n"
     ]
    }
   ],
   "source": [
    "print(f\"{type(base_serie)}, {type(sym_serie)}\")"
   ]
  },
  {
   "cell_type": "code",
   "execution_count": null,
   "metadata": {},
   "outputs": [],
   "source": [
    "pd.concat([base_serie, sym_serie])\n"
   ]
  },
  {
   "cell_type": "code",
   "execution_count": 61,
   "metadata": {},
   "outputs": [
    {
     "data": {
      "text/plain": [
       "{'Symbol': 'A',\n",
       " 'Name': 'Agilent Technologies Inc',\n",
       " 'ListedDt': '2005-01-03T00:00:00',\n",
       " 'LastDt': '2022-09-22T00:00:00',\n",
       " 'Status': 'Active',\n",
       " 'Sector': 'Financial Services',\n",
       " 'Industry': 'Asset Management',\n",
       " 'Type': 'EQUITY',\n",
       " 'Source': None,\n",
       " 'Website': 'https://www.aberdeen.green',\n",
       " 'LogoUrl': 'https://logo.clearbit.com/aberdeen.green',\n",
       " 'Exchange': 'TOR',\n",
       " 'ShortName': 'ABERDEEN INTERNATIONAL INC.',\n",
       " 'LongName': 'Aberdeen International Inc.',\n",
       " 'Market': 'ca_market',\n",
       " 'FundFamily': None,\n",
       " 'MarketCap': 10141389,\n",
       " 'YahooTicker': 'AAB.TO',\n",
       " 'ExchangeCode': 'TSX'}"
      ]
     },
     "execution_count": 61,
     "metadata": {},
     "output_type": "execute_result"
    }
   ],
   "source": [
    "augmented = base_info | sym_info\n",
    "augmented"
   ]
  },
  {
   "cell_type": "code",
   "execution_count": 63,
   "metadata": {},
   "outputs": [
    {
     "data": {
      "text/html": [
       "<div>\n",
       "<style scoped>\n",
       "    .dataframe tbody tr th:only-of-type {\n",
       "        vertical-align: middle;\n",
       "    }\n",
       "\n",
       "    .dataframe tbody tr th {\n",
       "        vertical-align: top;\n",
       "    }\n",
       "\n",
       "    .dataframe thead th {\n",
       "        text-align: right;\n",
       "    }\n",
       "</style>\n",
       "<table border=\"1\" class=\"dataframe\">\n",
       "  <thead>\n",
       "    <tr style=\"text-align: right;\">\n",
       "      <th></th>\n",
       "      <th>Symbol</th>\n",
       "      <th>Name</th>\n",
       "      <th>ListedDt</th>\n",
       "      <th>LastDt</th>\n",
       "      <th>Status</th>\n",
       "      <th>Sector</th>\n",
       "      <th>Industry</th>\n",
       "      <th>Type</th>\n",
       "      <th>Source</th>\n",
       "      <th>Website</th>\n",
       "      <th>LogoUrl</th>\n",
       "      <th>Exchange</th>\n",
       "      <th>ShortName</th>\n",
       "      <th>LongName</th>\n",
       "      <th>Market</th>\n",
       "      <th>FundFamily</th>\n",
       "      <th>MarketCap</th>\n",
       "      <th>YahooTicker</th>\n",
       "      <th>ExchangeCode</th>\n",
       "    </tr>\n",
       "  </thead>\n",
       "  <tbody>\n",
       "    <tr>\n",
       "      <th>0</th>\n",
       "      <td>A</td>\n",
       "      <td>Agilent Technologies Inc</td>\n",
       "      <td>2005-01-03T00:00:00</td>\n",
       "      <td>2022-09-22T00:00:00</td>\n",
       "      <td>Active</td>\n",
       "      <td>Financial Services</td>\n",
       "      <td>Asset Management</td>\n",
       "      <td>EQUITY</td>\n",
       "      <td>None</td>\n",
       "      <td>https://www.aberdeen.green</td>\n",
       "      <td>https://logo.clearbit.com/aberdeen.green</td>\n",
       "      <td>TOR</td>\n",
       "      <td>ABERDEEN INTERNATIONAL INC.</td>\n",
       "      <td>Aberdeen International Inc.</td>\n",
       "      <td>ca_market</td>\n",
       "      <td>None</td>\n",
       "      <td>10141389</td>\n",
       "      <td>AAB.TO</td>\n",
       "      <td>TSX</td>\n",
       "    </tr>\n",
       "  </tbody>\n",
       "</table>\n",
       "</div>"
      ],
      "text/plain": [
       "  Symbol                      Name             ListedDt               LastDt  \\\n",
       "0      A  Agilent Technologies Inc  2005-01-03T00:00:00  2022-09-22T00:00:00   \n",
       "\n",
       "   Status              Sector          Industry    Type Source  \\\n",
       "0  Active  Financial Services  Asset Management  EQUITY   None   \n",
       "\n",
       "                      Website                                   LogoUrl  \\\n",
       "0  https://www.aberdeen.green  https://logo.clearbit.com/aberdeen.green   \n",
       "\n",
       "  Exchange                    ShortName                     LongName  \\\n",
       "0      TOR  ABERDEEN INTERNATIONAL INC.  Aberdeen International Inc.   \n",
       "\n",
       "      Market FundFamily  MarketCap YahooTicker ExchangeCode  \n",
       "0  ca_market       None   10141389      AAB.TO          TSX  "
      ]
     },
     "execution_count": 63,
     "metadata": {},
     "output_type": "execute_result"
    }
   ],
   "source": [
    "df = pd.DataFrame([augmented])\n",
    "df"
   ]
  },
  {
   "cell_type": "code",
   "execution_count": 71,
   "metadata": {},
   "outputs": [],
   "source": [
    "df.to_csv('augmented.csv', header=False, index=False, mode='a')"
   ]
  },
  {
   "cell_type": "code",
   "execution_count": null,
   "metadata": {},
   "outputs": [],
   "source": [
    "df"
   ]
  },
  {
   "cell_type": "code",
   "execution_count": 42,
   "metadata": {},
   "outputs": [],
   "source": [
    "github = 'https://raw.githubusercontent.com/MapleFrogStudio/DATASETS/main/STOCK_SYMBOLS/YAHOO'\n",
    "amex = pd.read_csv(f'{github}/amex.csv', index_col='Symbol')\n",
    "asx = pd.read_csv(f'{github}/asx.csv', index_col='Symbol')\n",
    "lse = pd.read_csv(f'{github}/lse.csv', index_col='Symbol')\n",
    "nasdaq = pd.read_csv(f'{github}/nasdaq.csv', index_col='Symbol')\n",
    "nyse = pd.read_csv(f'{github}/nyse.csv', index_col='Symbol')\n",
    "tsx = pd.read_csv(f'{github}/tsx.csv', index_col='Symbol')\n",
    "tsxv = pd.read_csv(f'{github}/tsxv.csv')"
   ]
  },
  {
   "cell_type": "code",
   "execution_count": 23,
   "metadata": {},
   "outputs": [],
   "source": [
    "#git2 = 'https://raw.githubusercontent.com/MapleFrogStudio/DATASETS/main/STOCK_SYMBOLS/CSV/eoddata_tsxv.csv'\n",
    "#tsxv = pd.read_csv(f'{git2}')"
   ]
  },
  {
   "cell_type": "markdown",
   "metadata": {},
   "source": []
  },
  {
   "cell_type": "code",
   "execution_count": 43,
   "metadata": {},
   "outputs": [
    {
     "name": "stdout",
     "output_type": "stream",
     "text": [
      "amex   : 2852\n",
      "asx    : 3763\n",
      "lse    : 5937\n",
      "nasdaq : 5713\n",
      "nyse   : 3640\n",
      "tsx    : 2473\n",
      "tsxv   : 1686\n",
      "Total  : 26064\n"
     ]
    }
   ],
   "source": [
    "print(f\"amex   : {len(amex)}\")\n",
    "print(f\"asx    : {len(asx)}\")\n",
    "print(f\"lse    : {len(lse)}\")\n",
    "print(f\"nasdaq : {len(nasdaq)}\")\n",
    "print(f\"nyse   : {len(nyse)}\")\n",
    "print(f\"tsx    : {len(tsx)}\")\n",
    "print(f\"tsxv   : {len(tsxv)}\")\n",
    "print(f\"Total  : {len(amex)+len(asx)+len(lse)+len(nasdaq)+len(nyse)+len(tsx)+len(tsxv)}\")"
   ]
  },
  {
   "cell_type": "code",
   "execution_count": 40,
   "metadata": {},
   "outputs": [
    {
     "data": {
      "text/html": [
       "<div>\n",
       "<style scoped>\n",
       "    .dataframe tbody tr th:only-of-type {\n",
       "        vertical-align: middle;\n",
       "    }\n",
       "\n",
       "    .dataframe tbody tr th {\n",
       "        vertical-align: top;\n",
       "    }\n",
       "\n",
       "    .dataframe thead th {\n",
       "        text-align: right;\n",
       "    }\n",
       "</style>\n",
       "<table border=\"1\" class=\"dataframe\">\n",
       "  <thead>\n",
       "    <tr style=\"text-align: right;\">\n",
       "      <th></th>\n",
       "      <th>Symbol</th>\n",
       "      <th>Name</th>\n",
       "    </tr>\n",
       "  </thead>\n",
       "  <tbody>\n",
       "    <tr>\n",
       "      <th>count</th>\n",
       "      <td>1679</td>\n",
       "      <td>1679</td>\n",
       "    </tr>\n",
       "    <tr>\n",
       "      <th>unique</th>\n",
       "      <td>1679</td>\n",
       "      <td>1669</td>\n",
       "    </tr>\n",
       "    <tr>\n",
       "      <th>top</th>\n",
       "      <td>A</td>\n",
       "      <td>Lifeist Wellness Inc</td>\n",
       "    </tr>\n",
       "    <tr>\n",
       "      <th>freq</th>\n",
       "      <td>1</td>\n",
       "      <td>3</td>\n",
       "    </tr>\n",
       "  </tbody>\n",
       "</table>\n",
       "</div>"
      ],
      "text/plain": [
       "       Symbol                  Name\n",
       "count    1679                  1679\n",
       "unique   1679                  1669\n",
       "top         A  Lifeist Wellness Inc\n",
       "freq        1                     3"
      ]
     },
     "execution_count": 40,
     "metadata": {},
     "output_type": "execute_result"
    }
   ],
   "source": [
    "tsxv.describe(include='all')"
   ]
  }
 ],
 "metadata": {
  "kernelspec": {
   "display_name": "Python 3.10.0 ('env': venv)",
   "language": "python",
   "name": "python3"
  },
  "language_info": {
   "codemirror_mode": {
    "name": "ipython",
    "version": 3
   },
   "file_extension": ".py",
   "mimetype": "text/x-python",
   "name": "python",
   "nbconvert_exporter": "python",
   "pygments_lexer": "ipython3",
   "version": "3.10.0"
  },
  "orig_nbformat": 4,
  "vscode": {
   "interpreter": {
    "hash": "104b1d4916f6566f9f0d67924234517bb3a4a8a900c6aa282551a376a69632a6"
   }
  }
 },
 "nbformat": 4,
 "nbformat_minor": 2
}
