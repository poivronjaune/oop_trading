{
 "cells": [
  {
   "cell_type": "markdown",
   "metadata": {},
   "source": [
    "# New notebook"
   ]
  },
  {
   "cell_type": "code",
   "execution_count": 1,
   "metadata": {},
   "outputs": [],
   "source": [
    "import datetime\n",
    "\n",
    "import pandas as pd\n",
    "import sqlite3 as db\n",
    "from sqlalchemy import create_engine\n",
    "db_name = \"test1.sqlite3\"\n",
    "engine = create_engine(f\"sqlite:///{db_name}\")"
   ]
  },
  {
   "cell_type": "code",
   "execution_count": 6,
   "metadata": {},
   "outputs": [],
   "source": [
    "my_dict = {\n",
    "    'class':['Five','Six','Three'],\n",
    "    'No':[5,2,3]\n",
    "}"
   ]
  },
  {
   "cell_type": "code",
   "execution_count": 7,
   "metadata": {},
   "outputs": [
    {
     "data": {
      "text/html": [
       "<div>\n",
       "<style scoped>\n",
       "    .dataframe tbody tr th:only-of-type {\n",
       "        vertical-align: middle;\n",
       "    }\n",
       "\n",
       "    .dataframe tbody tr th {\n",
       "        vertical-align: top;\n",
       "    }\n",
       "\n",
       "    .dataframe thead th {\n",
       "        text-align: right;\n",
       "    }\n",
       "</style>\n",
       "<table border=\"1\" class=\"dataframe\">\n",
       "  <thead>\n",
       "    <tr style=\"text-align: right;\">\n",
       "      <th></th>\n",
       "      <th>class</th>\n",
       "      <th>No</th>\n",
       "    </tr>\n",
       "  </thead>\n",
       "  <tbody>\n",
       "    <tr>\n",
       "      <th>0</th>\n",
       "      <td>Five</td>\n",
       "      <td>5</td>\n",
       "    </tr>\n",
       "    <tr>\n",
       "      <th>1</th>\n",
       "      <td>Six</td>\n",
       "      <td>2</td>\n",
       "    </tr>\n",
       "    <tr>\n",
       "      <th>2</th>\n",
       "      <td>Three</td>\n",
       "      <td>3</td>\n",
       "    </tr>\n",
       "  </tbody>\n",
       "</table>\n",
       "</div>"
      ],
      "text/plain": [
       "   class  No\n",
       "0   Five   5\n",
       "1    Six   2\n",
       "2  Three   3"
      ]
     },
     "execution_count": 7,
     "metadata": {},
     "output_type": "execute_result"
    }
   ],
   "source": [
    "df = pd.DataFrame(my_dict)\n",
    "df"
   ]
  },
  {
   "cell_type": "code",
   "execution_count": 8,
   "metadata": {},
   "outputs": [
    {
     "data": {
      "text/plain": [
       "3"
      ]
     },
     "execution_count": 8,
     "metadata": {},
     "output_type": "execute_result"
    }
   ],
   "source": [
    "df.to_sql('student', engine)"
   ]
  },
  {
   "cell_type": "code",
   "execution_count": null,
   "metadata": {},
   "outputs": [],
   "source": []
  },
  {
   "cell_type": "code",
   "execution_count": 2,
   "metadata": {},
   "outputs": [],
   "source": [
    "symbols_data = [\n",
    "        {\n",
    "            \"Symbol\": \"A\",\n",
    "            \"Name\": \"Agilent Technologies Inc\",\n",
    "            \"ListedDt\": datetime.datetime(2005, 1, 3).isoformat(),\n",
    "            \"LastDt\": datetime.datetime(2022, 9, 6).isoformat(),\n",
    "            \"Status\": \"Active\",\n",
    "        },\n",
    "        {\n",
    "            \"Symbol\": \"AA\",\n",
    "            \"Name\": \"Alcoa Corporation\",\n",
    "            \"ListedDt\": datetime.datetime(2016, 10, 18).isoformat(),\n",
    "            \"LastDt\": datetime.datetime(2022, 9, 6).isoformat(),\n",
    "            \"Status\": \"Active\",\n",
    "        },\n",
    "        {\n",
    "            \"Symbol\": \"ZGNX\",\n",
    "            \"Name\": \"Zogenix\",\n",
    "            \"ListedDt\": datetime.datetime(2010, 11, 23).isoformat(),\n",
    "            \"LastDt\": datetime.datetime(2022, 3, 4).isoformat(),\n",
    "            \"Status\": \"Active\",\n",
    "        }\n",
    "    ]\n",
    "\n",
    "update_data = [\n",
    "        {\n",
    "            \"Symbol\": \"AA\",\n",
    "            \"Name\": \"Updated Alcoa Corporation\",\n",
    "            \"ListedDt\": datetime.datetime(2022, 10, 18).isoformat(),\n",
    "            \"LastDt\": datetime.datetime(2022, 9, 6).isoformat(),\n",
    "            \"Status\": \"Active\",\n",
    "        },\n",
    "        {\n",
    "            \"Symbol\": \"ZGNX\",\n",
    "            \"Name\": \"Updated Zogenix\",\n",
    "            \"ListedDt\": datetime.datetime(2012, 11, 23).isoformat(),\n",
    "            \"LastDt\": datetime.datetime(2022, 3, 4).isoformat(),\n",
    "            \"Status\": \"Active\",\n",
    "        },\n",
    "        {\n",
    "            \"Symbol\": \"BC\",\n",
    "            \"Name\": \"Basic Company\",\n",
    "            \"ListedDt\": datetime.datetime(2021, 1, 1).isoformat(),\n",
    "            \"LastDt\": datetime.datetime(2022, 3, 4).isoformat(),\n",
    "            \"Status\": \"Active\",\n",
    "        }\n",
    "    ]"
   ]
  },
  {
   "cell_type": "code",
   "execution_count": 3,
   "metadata": {},
   "outputs": [],
   "source": [
    "source = pd.DataFrame(symbols_data)\n",
    "new_data = pd.DataFrame(update_data)"
   ]
  },
  {
   "cell_type": "code",
   "execution_count": 15,
   "metadata": {},
   "outputs": [
    {
     "data": {
      "text/html": [
       "<div>\n",
       "<style scoped>\n",
       "    .dataframe tbody tr th:only-of-type {\n",
       "        vertical-align: middle;\n",
       "    }\n",
       "\n",
       "    .dataframe tbody tr th {\n",
       "        vertical-align: top;\n",
       "    }\n",
       "\n",
       "    .dataframe thead th {\n",
       "        text-align: right;\n",
       "    }\n",
       "</style>\n",
       "<table border=\"1\" class=\"dataframe\">\n",
       "  <thead>\n",
       "    <tr style=\"text-align: right;\">\n",
       "      <th></th>\n",
       "      <th>Symbol</th>\n",
       "      <th>Name_x</th>\n",
       "      <th>ListedDt_x</th>\n",
       "      <th>LastDt_x</th>\n",
       "      <th>Status_x</th>\n",
       "      <th>Name_y</th>\n",
       "      <th>ListedDt_y</th>\n",
       "      <th>LastDt_y</th>\n",
       "      <th>Status_y</th>\n",
       "    </tr>\n",
       "  </thead>\n",
       "  <tbody>\n",
       "    <tr>\n",
       "      <th>0</th>\n",
       "      <td>A</td>\n",
       "      <td>Agilent Technologies Inc</td>\n",
       "      <td>2005-01-03T00:00:00</td>\n",
       "      <td>2022-09-06T00:00:00</td>\n",
       "      <td>Active</td>\n",
       "      <td>NaN</td>\n",
       "      <td>NaN</td>\n",
       "      <td>NaN</td>\n",
       "      <td>NaN</td>\n",
       "    </tr>\n",
       "    <tr>\n",
       "      <th>1</th>\n",
       "      <td>AA</td>\n",
       "      <td>Alcoa Corporation</td>\n",
       "      <td>2016-10-18T00:00:00</td>\n",
       "      <td>2022-09-06T00:00:00</td>\n",
       "      <td>Active</td>\n",
       "      <td>Updated Alcoa Corporation</td>\n",
       "      <td>2022-10-18T00:00:00</td>\n",
       "      <td>2022-09-06T00:00:00</td>\n",
       "      <td>Active</td>\n",
       "    </tr>\n",
       "    <tr>\n",
       "      <th>2</th>\n",
       "      <td>ZGNX</td>\n",
       "      <td>Zogenix</td>\n",
       "      <td>2010-11-23T00:00:00</td>\n",
       "      <td>2022-03-04T00:00:00</td>\n",
       "      <td>Active</td>\n",
       "      <td>Updated Zogenix</td>\n",
       "      <td>2012-11-23T00:00:00</td>\n",
       "      <td>2022-03-04T00:00:00</td>\n",
       "      <td>Active</td>\n",
       "    </tr>\n",
       "  </tbody>\n",
       "</table>\n",
       "</div>"
      ],
      "text/plain": [
       "  Symbol                    Name_x           ListedDt_x             LastDt_x  \\\n",
       "0      A  Agilent Technologies Inc  2005-01-03T00:00:00  2022-09-06T00:00:00   \n",
       "1     AA         Alcoa Corporation  2016-10-18T00:00:00  2022-09-06T00:00:00   \n",
       "2   ZGNX                   Zogenix  2010-11-23T00:00:00  2022-03-04T00:00:00   \n",
       "\n",
       "  Status_x                     Name_y           ListedDt_y  \\\n",
       "0   Active                        NaN                  NaN   \n",
       "1   Active  Updated Alcoa Corporation  2022-10-18T00:00:00   \n",
       "2   Active            Updated Zogenix  2012-11-23T00:00:00   \n",
       "\n",
       "              LastDt_y Status_y  \n",
       "0                  NaN      NaN  \n",
       "1  2022-09-06T00:00:00   Active  \n",
       "2  2022-03-04T00:00:00   Active  "
      ]
     },
     "execution_count": 15,
     "metadata": {},
     "output_type": "execute_result"
    }
   ],
   "source": [
    "old = pd.merge(source, new_data, on='Symbol', how='outer')\n",
    "old"
   ]
  },
  {
   "cell_type": "code",
   "execution_count": 13,
   "metadata": {},
   "outputs": [
    {
     "data": {
      "text/html": [
       "<div>\n",
       "<style scoped>\n",
       "    .dataframe tbody tr th:only-of-type {\n",
       "        vertical-align: middle;\n",
       "    }\n",
       "\n",
       "    .dataframe tbody tr th {\n",
       "        vertical-align: top;\n",
       "    }\n",
       "\n",
       "    .dataframe thead th {\n",
       "        text-align: right;\n",
       "    }\n",
       "</style>\n",
       "<table border=\"1\" class=\"dataframe\">\n",
       "  <thead>\n",
       "    <tr style=\"text-align: right;\">\n",
       "      <th></th>\n",
       "      <th>Symbol</th>\n",
       "      <th>Name_x</th>\n",
       "      <th>ListedDt_x</th>\n",
       "      <th>LastDt_x</th>\n",
       "      <th>Status_x</th>\n",
       "      <th>Name_y</th>\n",
       "      <th>ListedDt_y</th>\n",
       "      <th>LastDt_y</th>\n",
       "      <th>Status_y</th>\n",
       "    </tr>\n",
       "  </thead>\n",
       "  <tbody>\n",
       "    <tr>\n",
       "      <th>0</th>\n",
       "      <td>AA</td>\n",
       "      <td>Alcoa Corporation</td>\n",
       "      <td>2016-10-18T00:00:00</td>\n",
       "      <td>2022-09-06T00:00:00</td>\n",
       "      <td>Active</td>\n",
       "      <td>Updated Alcoa Corporation</td>\n",
       "      <td>2022-10-18T00:00:00</td>\n",
       "      <td>2022-09-06T00:00:00</td>\n",
       "      <td>Active</td>\n",
       "    </tr>\n",
       "    <tr>\n",
       "      <th>1</th>\n",
       "      <td>ZGNX</td>\n",
       "      <td>Zogenix</td>\n",
       "      <td>2010-11-23T00:00:00</td>\n",
       "      <td>2022-03-04T00:00:00</td>\n",
       "      <td>Active</td>\n",
       "      <td>Updated Zogenix</td>\n",
       "      <td>2012-11-23T00:00:00</td>\n",
       "      <td>2022-03-04T00:00:00</td>\n",
       "      <td>Active</td>\n",
       "    </tr>\n",
       "  </tbody>\n",
       "</table>\n",
       "</div>"
      ],
      "text/plain": [
       "  Symbol             Name_x           ListedDt_x             LastDt_x  \\\n",
       "0     AA  Alcoa Corporation  2016-10-18T00:00:00  2022-09-06T00:00:00   \n",
       "1   ZGNX            Zogenix  2010-11-23T00:00:00  2022-03-04T00:00:00   \n",
       "\n",
       "  Status_x                     Name_y           ListedDt_y  \\\n",
       "0   Active  Updated Alcoa Corporation  2022-10-18T00:00:00   \n",
       "1   Active            Updated Zogenix  2012-11-23T00:00:00   \n",
       "\n",
       "              LastDt_y Status_y  \n",
       "0  2022-09-06T00:00:00   Active  \n",
       "1  2022-03-04T00:00:00   Active  "
      ]
     },
     "execution_count": 13,
     "metadata": {},
     "output_type": "execute_result"
    }
   ],
   "source": [
    "updates = pd.merge(source, new_data, on='Symbol', how='inner')\n",
    "updates"
   ]
  },
  {
   "cell_type": "code",
   "execution_count": null,
   "metadata": {},
   "outputs": [],
   "source": []
  }
 ],
 "metadata": {
  "kernelspec": {
   "display_name": "Python 3.10.5 ('env': venv)",
   "language": "python",
   "name": "python3"
  },
  "language_info": {
   "codemirror_mode": {
    "name": "ipython",
    "version": 3
   },
   "file_extension": ".py",
   "mimetype": "text/x-python",
   "name": "python",
   "nbconvert_exporter": "python",
   "pygments_lexer": "ipython3",
   "version": "3.10.5"
  },
  "orig_nbformat": 4,
  "vscode": {
   "interpreter": {
    "hash": "cb2c813c36b204723229a6135b90077a275d4b85e1d1451f4559212d78d6ef3c"
   }
  }
 },
 "nbformat": 4,
 "nbformat_minor": 2
}
