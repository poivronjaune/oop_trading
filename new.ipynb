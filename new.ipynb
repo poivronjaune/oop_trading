{
 "cells": [
  {
   "cell_type": "markdown",
   "metadata": {},
   "source": [
    "# New notebook"
   ]
  },
  {
   "cell_type": "code",
   "execution_count": 29,
   "metadata": {},
   "outputs": [],
   "source": [
    "import datetime\n",
    "\n",
    "import pandas as pd\n",
    "import sqlite3 as db\n",
    "import yfinance as yf\n",
    "\n",
    "from sqlalchemy import create_engine\n",
    "file_storage = \"test2\"\n"
   ]
  },
  {
   "cell_type": "code",
   "execution_count": 30,
   "metadata": {},
   "outputs": [],
   "source": [
    "symbols_data = [\n",
    "        {\n",
    "            \"Symbol\": \"A\",\n",
    "            \"Name\": \"Agilent Technologies Inc\",\n",
    "            \"ListedDt\": datetime.datetime(2005, 1, 3).isoformat(),\n",
    "            \"LastDt\": datetime.datetime(2022, 9, 6).isoformat(),\n",
    "            \"Status\": \"Active\",\n",
    "        },\n",
    "        {\n",
    "            \"Symbol\": \"AA\",\n",
    "            \"Name\": \"Alcoa Corporation\",\n",
    "            \"ListedDt\": datetime.datetime(2016, 10, 18).isoformat(),\n",
    "            \"LastDt\": datetime.datetime(2022, 9, 6).isoformat(),\n",
    "            \"Status\": \"Active\",\n",
    "        },\n",
    "        {\n",
    "            \"Symbol\": \"ZGNX\",\n",
    "            \"Name\": \"Zogenix\",\n",
    "            \"ListedDt\": datetime.datetime(2010, 11, 23).isoformat(),\n",
    "            \"LastDt\": datetime.datetime(2022, 3, 4).isoformat(),\n",
    "            \"Status\": \"Active\",\n",
    "        }\n",
    "    ]\n",
    "\n",
    "update_data = [\n",
    "        {\n",
    "            \"Symbol\": \"AA\",\n",
    "            \"Name\": \"Updated Alcoa Corporation\",\n",
    "            \"ListedDt\": datetime.datetime(2022, 10, 18).isoformat(),\n",
    "            \"LastDt\": datetime.datetime(2022, 9, 6).isoformat(),\n",
    "            \"Status\": \"Active\",\n",
    "        },\n",
    "        {\n",
    "            \"Symbol\": \"ZGNX\",\n",
    "            \"Name\": \"Updated Zogenix\",\n",
    "            \"ListedDt\": datetime.datetime(2012, 11, 23).isoformat(),\n",
    "            \"LastDt\": datetime.datetime(2022, 3, 4).isoformat(),\n",
    "            \"Status\": \"Active\",\n",
    "        },\n",
    "        {\n",
    "            \"Symbol\": \"BC\",\n",
    "            \"Name\": \"Basic Company\",\n",
    "            \"ListedDt\": datetime.datetime(2021, 1, 1).isoformat(),\n",
    "            \"LastDt\": datetime.datetime(2022, 3, 4).isoformat(),\n",
    "            \"Status\": \"Active\",\n",
    "        }\n",
    "    ]"
   ]
  },
  {
   "cell_type": "code",
   "execution_count": 31,
   "metadata": {},
   "outputs": [],
   "source": [
    "source = pd.DataFrame(symbols_data)\n",
    "new_data = pd.DataFrame(update_data)"
   ]
  },
  {
   "cell_type": "code",
   "execution_count": 32,
   "metadata": {},
   "outputs": [],
   "source": [
    "suffixe_new = '_new'\n",
    "cols_old = source.columns\n",
    "cols_new = [f\"{col}{suffixe_new}\" for col in cols_old]\n",
    "cols_new[0] = cols_old[0]"
   ]
  },
  {
   "cell_type": "code",
   "execution_count": 33,
   "metadata": {},
   "outputs": [
    {
     "data": {
      "text/plain": [
       "Index(['Symbol', 'Name', 'ListedDt', 'LastDt', 'Status'], dtype='object')"
      ]
     },
     "execution_count": 33,
     "metadata": {},
     "output_type": "execute_result"
    }
   ],
   "source": [
    "cols_old"
   ]
  },
  {
   "cell_type": "code",
   "execution_count": 34,
   "metadata": {},
   "outputs": [
    {
     "data": {
      "text/plain": [
       "['Symbol', 'Name_new', 'ListedDt_new', 'LastDt_new', 'Status_new']"
      ]
     },
     "execution_count": 34,
     "metadata": {},
     "output_type": "execute_result"
    }
   ],
   "source": [
    "cols_new"
   ]
  },
  {
   "cell_type": "code",
   "execution_count": 35,
   "metadata": {},
   "outputs": [
    {
     "data": {
      "text/html": [
       "<div>\n",
       "<style scoped>\n",
       "    .dataframe tbody tr th:only-of-type {\n",
       "        vertical-align: middle;\n",
       "    }\n",
       "\n",
       "    .dataframe tbody tr th {\n",
       "        vertical-align: top;\n",
       "    }\n",
       "\n",
       "    .dataframe thead th {\n",
       "        text-align: right;\n",
       "    }\n",
       "</style>\n",
       "<table border=\"1\" class=\"dataframe\">\n",
       "  <thead>\n",
       "    <tr style=\"text-align: right;\">\n",
       "      <th></th>\n",
       "      <th>Symbol</th>\n",
       "      <th>Name</th>\n",
       "      <th>ListedDt</th>\n",
       "      <th>LastDt</th>\n",
       "      <th>Status</th>\n",
       "      <th>Name_new</th>\n",
       "      <th>ListedDt_new</th>\n",
       "      <th>LastDt_new</th>\n",
       "      <th>Status_new</th>\n",
       "      <th>_merge</th>\n",
       "    </tr>\n",
       "  </thead>\n",
       "  <tbody>\n",
       "    <tr>\n",
       "      <th>0</th>\n",
       "      <td>A</td>\n",
       "      <td>Agilent Technologies Inc</td>\n",
       "      <td>2005-01-03T00:00:00</td>\n",
       "      <td>2022-09-06T00:00:00</td>\n",
       "      <td>Active</td>\n",
       "      <td>NaN</td>\n",
       "      <td>NaN</td>\n",
       "      <td>NaN</td>\n",
       "      <td>NaN</td>\n",
       "      <td>left_only</td>\n",
       "    </tr>\n",
       "    <tr>\n",
       "      <th>1</th>\n",
       "      <td>AA</td>\n",
       "      <td>Alcoa Corporation</td>\n",
       "      <td>2016-10-18T00:00:00</td>\n",
       "      <td>2022-09-06T00:00:00</td>\n",
       "      <td>Active</td>\n",
       "      <td>Updated Alcoa Corporation</td>\n",
       "      <td>2022-10-18T00:00:00</td>\n",
       "      <td>2022-09-06T00:00:00</td>\n",
       "      <td>Active</td>\n",
       "      <td>both</td>\n",
       "    </tr>\n",
       "    <tr>\n",
       "      <th>2</th>\n",
       "      <td>ZGNX</td>\n",
       "      <td>Zogenix</td>\n",
       "      <td>2010-11-23T00:00:00</td>\n",
       "      <td>2022-03-04T00:00:00</td>\n",
       "      <td>Active</td>\n",
       "      <td>Updated Zogenix</td>\n",
       "      <td>2012-11-23T00:00:00</td>\n",
       "      <td>2022-03-04T00:00:00</td>\n",
       "      <td>Active</td>\n",
       "      <td>both</td>\n",
       "    </tr>\n",
       "    <tr>\n",
       "      <th>3</th>\n",
       "      <td>BC</td>\n",
       "      <td>NaN</td>\n",
       "      <td>NaN</td>\n",
       "      <td>NaN</td>\n",
       "      <td>NaN</td>\n",
       "      <td>Basic Company</td>\n",
       "      <td>2021-01-01T00:00:00</td>\n",
       "      <td>2022-03-04T00:00:00</td>\n",
       "      <td>Active</td>\n",
       "      <td>right_only</td>\n",
       "    </tr>\n",
       "  </tbody>\n",
       "</table>\n",
       "</div>"
      ],
      "text/plain": [
       "  Symbol                      Name             ListedDt               LastDt  \\\n",
       "0      A  Agilent Technologies Inc  2005-01-03T00:00:00  2022-09-06T00:00:00   \n",
       "1     AA         Alcoa Corporation  2016-10-18T00:00:00  2022-09-06T00:00:00   \n",
       "2   ZGNX                   Zogenix  2010-11-23T00:00:00  2022-03-04T00:00:00   \n",
       "3     BC                       NaN                  NaN                  NaN   \n",
       "\n",
       "   Status                   Name_new         ListedDt_new  \\\n",
       "0  Active                        NaN                  NaN   \n",
       "1  Active  Updated Alcoa Corporation  2022-10-18T00:00:00   \n",
       "2  Active            Updated Zogenix  2012-11-23T00:00:00   \n",
       "3     NaN              Basic Company  2021-01-01T00:00:00   \n",
       "\n",
       "            LastDt_new Status_new      _merge  \n",
       "0                  NaN        NaN   left_only  \n",
       "1  2022-09-06T00:00:00     Active        both  \n",
       "2  2022-03-04T00:00:00     Active        both  \n",
       "3  2022-03-04T00:00:00     Active  right_only  "
      ]
     },
     "execution_count": 35,
     "metadata": {},
     "output_type": "execute_result"
    }
   ],
   "source": [
    "merged = pd.merge(source, new_data, on='Symbol', how='outer', indicator=True, suffixes=['', '_new'])\n",
    "merged"
   ]
  },
  {
   "cell_type": "code",
   "execution_count": 36,
   "metadata": {},
   "outputs": [
    {
     "data": {
      "text/html": [
       "<div>\n",
       "<style scoped>\n",
       "    .dataframe tbody tr th:only-of-type {\n",
       "        vertical-align: middle;\n",
       "    }\n",
       "\n",
       "    .dataframe tbody tr th {\n",
       "        vertical-align: top;\n",
       "    }\n",
       "\n",
       "    .dataframe thead th {\n",
       "        text-align: right;\n",
       "    }\n",
       "</style>\n",
       "<table border=\"1\" class=\"dataframe\">\n",
       "  <thead>\n",
       "    <tr style=\"text-align: right;\">\n",
       "      <th></th>\n",
       "      <th>Symbol</th>\n",
       "      <th>Name</th>\n",
       "      <th>ListedDt</th>\n",
       "      <th>LastDt</th>\n",
       "      <th>Status</th>\n",
       "    </tr>\n",
       "  </thead>\n",
       "  <tbody>\n",
       "    <tr>\n",
       "      <th>0</th>\n",
       "      <td>A</td>\n",
       "      <td>Agilent Technologies Inc</td>\n",
       "      <td>2005-01-03T00:00:00</td>\n",
       "      <td>2022-09-06T00:00:00</td>\n",
       "      <td>Active</td>\n",
       "    </tr>\n",
       "  </tbody>\n",
       "</table>\n",
       "</div>"
      ],
      "text/plain": [
       "  Symbol                      Name             ListedDt               LastDt  \\\n",
       "0      A  Agilent Technologies Inc  2005-01-03T00:00:00  2022-09-06T00:00:00   \n",
       "\n",
       "   Status  \n",
       "0  Active  "
      ]
     },
     "execution_count": 36,
     "metadata": {},
     "output_type": "execute_result"
    }
   ],
   "source": [
    "old = merged.loc[merged._merge == 'left_only'][cols_old]\n",
    "old"
   ]
  },
  {
   "cell_type": "code",
   "execution_count": 37,
   "metadata": {},
   "outputs": [
    {
     "data": {
      "text/html": [
       "<div>\n",
       "<style scoped>\n",
       "    .dataframe tbody tr th:only-of-type {\n",
       "        vertical-align: middle;\n",
       "    }\n",
       "\n",
       "    .dataframe tbody tr th {\n",
       "        vertical-align: top;\n",
       "    }\n",
       "\n",
       "    .dataframe thead th {\n",
       "        text-align: right;\n",
       "    }\n",
       "</style>\n",
       "<table border=\"1\" class=\"dataframe\">\n",
       "  <thead>\n",
       "    <tr style=\"text-align: right;\">\n",
       "      <th></th>\n",
       "      <th>Symbol</th>\n",
       "      <th>Name</th>\n",
       "      <th>ListedDt</th>\n",
       "      <th>LastDt</th>\n",
       "      <th>Status</th>\n",
       "    </tr>\n",
       "  </thead>\n",
       "  <tbody>\n",
       "    <tr>\n",
       "      <th>1</th>\n",
       "      <td>AA</td>\n",
       "      <td>Updated Alcoa Corporation</td>\n",
       "      <td>2022-10-18T00:00:00</td>\n",
       "      <td>2022-09-06T00:00:00</td>\n",
       "      <td>Active</td>\n",
       "    </tr>\n",
       "    <tr>\n",
       "      <th>2</th>\n",
       "      <td>ZGNX</td>\n",
       "      <td>Updated Zogenix</td>\n",
       "      <td>2012-11-23T00:00:00</td>\n",
       "      <td>2022-03-04T00:00:00</td>\n",
       "      <td>Active</td>\n",
       "    </tr>\n",
       "  </tbody>\n",
       "</table>\n",
       "</div>"
      ],
      "text/plain": [
       "  Symbol                       Name             ListedDt               LastDt  \\\n",
       "1     AA  Updated Alcoa Corporation  2022-10-18T00:00:00  2022-09-06T00:00:00   \n",
       "2   ZGNX            Updated Zogenix  2012-11-23T00:00:00  2022-03-04T00:00:00   \n",
       "\n",
       "   Status  \n",
       "1  Active  \n",
       "2  Active  "
      ]
     },
     "execution_count": 37,
     "metadata": {},
     "output_type": "execute_result"
    }
   ],
   "source": [
    "updates = merged.loc[merged._merge == 'both'][cols_new]\n",
    "updates.columns = cols_old\n",
    "updates"
   ]
  },
  {
   "cell_type": "code",
   "execution_count": 38,
   "metadata": {},
   "outputs": [
    {
     "data": {
      "text/html": [
       "<div>\n",
       "<style scoped>\n",
       "    .dataframe tbody tr th:only-of-type {\n",
       "        vertical-align: middle;\n",
       "    }\n",
       "\n",
       "    .dataframe tbody tr th {\n",
       "        vertical-align: top;\n",
       "    }\n",
       "\n",
       "    .dataframe thead th {\n",
       "        text-align: right;\n",
       "    }\n",
       "</style>\n",
       "<table border=\"1\" class=\"dataframe\">\n",
       "  <thead>\n",
       "    <tr style=\"text-align: right;\">\n",
       "      <th></th>\n",
       "      <th>Symbol</th>\n",
       "      <th>Name</th>\n",
       "      <th>ListedDt</th>\n",
       "      <th>LastDt</th>\n",
       "      <th>Status</th>\n",
       "    </tr>\n",
       "  </thead>\n",
       "  <tbody>\n",
       "    <tr>\n",
       "      <th>3</th>\n",
       "      <td>BC</td>\n",
       "      <td>Basic Company</td>\n",
       "      <td>2021-01-01T00:00:00</td>\n",
       "      <td>2022-03-04T00:00:00</td>\n",
       "      <td>Active</td>\n",
       "    </tr>\n",
       "  </tbody>\n",
       "</table>\n",
       "</div>"
      ],
      "text/plain": [
       "  Symbol           Name             ListedDt               LastDt  Status\n",
       "3     BC  Basic Company  2021-01-01T00:00:00  2022-03-04T00:00:00  Active"
      ]
     },
     "execution_count": 38,
     "metadata": {},
     "output_type": "execute_result"
    }
   ],
   "source": [
    "new_sym = merged.loc[merged._merge == 'right_only'][cols_new]\n",
    "new_sym.columns = cols_old\n",
    "new_sym"
   ]
  },
  {
   "cell_type": "code",
   "execution_count": 39,
   "metadata": {},
   "outputs": [
    {
     "data": {
      "text/html": [
       "<div>\n",
       "<style scoped>\n",
       "    .dataframe tbody tr th:only-of-type {\n",
       "        vertical-align: middle;\n",
       "    }\n",
       "\n",
       "    .dataframe tbody tr th {\n",
       "        vertical-align: top;\n",
       "    }\n",
       "\n",
       "    .dataframe thead th {\n",
       "        text-align: right;\n",
       "    }\n",
       "</style>\n",
       "<table border=\"1\" class=\"dataframe\">\n",
       "  <thead>\n",
       "    <tr style=\"text-align: right;\">\n",
       "      <th></th>\n",
       "      <th>Symbol</th>\n",
       "      <th>Name</th>\n",
       "      <th>ListedDt</th>\n",
       "      <th>LastDt</th>\n",
       "      <th>Status</th>\n",
       "    </tr>\n",
       "  </thead>\n",
       "  <tbody>\n",
       "    <tr>\n",
       "      <th>0</th>\n",
       "      <td>A</td>\n",
       "      <td>Agilent Technologies Inc</td>\n",
       "      <td>2005-01-03T00:00:00</td>\n",
       "      <td>2022-09-06T00:00:00</td>\n",
       "      <td>Active</td>\n",
       "    </tr>\n",
       "    <tr>\n",
       "      <th>1</th>\n",
       "      <td>AA</td>\n",
       "      <td>Updated Alcoa Corporation</td>\n",
       "      <td>2022-10-18T00:00:00</td>\n",
       "      <td>2022-09-06T00:00:00</td>\n",
       "      <td>Active</td>\n",
       "    </tr>\n",
       "    <tr>\n",
       "      <th>2</th>\n",
       "      <td>ZGNX</td>\n",
       "      <td>Updated Zogenix</td>\n",
       "      <td>2012-11-23T00:00:00</td>\n",
       "      <td>2022-03-04T00:00:00</td>\n",
       "      <td>Active</td>\n",
       "    </tr>\n",
       "    <tr>\n",
       "      <th>3</th>\n",
       "      <td>BC</td>\n",
       "      <td>Basic Company</td>\n",
       "      <td>2021-01-01T00:00:00</td>\n",
       "      <td>2022-03-04T00:00:00</td>\n",
       "      <td>Active</td>\n",
       "    </tr>\n",
       "  </tbody>\n",
       "</table>\n",
       "</div>"
      ],
      "text/plain": [
       "  Symbol                       Name             ListedDt               LastDt  \\\n",
       "0      A   Agilent Technologies Inc  2005-01-03T00:00:00  2022-09-06T00:00:00   \n",
       "1     AA  Updated Alcoa Corporation  2022-10-18T00:00:00  2022-09-06T00:00:00   \n",
       "2   ZGNX            Updated Zogenix  2012-11-23T00:00:00  2022-03-04T00:00:00   \n",
       "3     BC              Basic Company  2021-01-01T00:00:00  2022-03-04T00:00:00   \n",
       "\n",
       "   Status  \n",
       "0  Active  \n",
       "1  Active  \n",
       "2  Active  \n",
       "3  Active  "
      ]
     },
     "execution_count": 39,
     "metadata": {},
     "output_type": "execute_result"
    }
   ],
   "source": [
    "new_save = pd.concat([old, updates, new_sym], ignore_index=True)\n",
    "new_save"
   ]
  },
  {
   "cell_type": "code",
   "execution_count": 40,
   "metadata": {},
   "outputs": [
    {
     "data": {
      "text/plain": [
       "{'A', 'AA', 'BC', 'ZGNX'}"
      ]
     },
     "execution_count": 40,
     "metadata": {},
     "output_type": "execute_result"
    }
   ],
   "source": [
    "df1 = pd.DataFrame(symbols_data)\n",
    "df2 = pd.DataFrame(update_data)\n",
    "set1 = set()\n",
    "set1.update(df1.Symbol)\n",
    "set1.update(df2.Symbol)\n",
    "set1\n"
   ]
  },
  {
   "cell_type": "markdown",
   "metadata": {},
   "source": [
    "# YAHOO SECTOR INFO"
   ]
  },
  {
   "cell_type": "code",
   "execution_count": 41,
   "metadata": {},
   "outputs": [],
   "source": [
    "import datetime\n",
    "\n",
    "import pandas as pd\n",
    "import yfinance as yf"
   ]
  },
  {
   "cell_type": "code",
   "execution_count": 48,
   "metadata": {},
   "outputs": [
    {
     "data": {
      "text/plain": [
       "{'regularMarketPrice': None, 'preMarketPrice': None, 'logo_url': ''}"
      ]
     },
     "execution_count": 48,
     "metadata": {},
     "output_type": "execute_result"
    }
   ],
   "source": [
    "t1 = yf.Ticker('ZGNX')\n",
    "t1.info"
   ]
  },
  {
   "cell_type": "code",
   "execution_count": 63,
   "metadata": {},
   "outputs": [
    {
     "name": "stdout",
     "output_type": "stream",
     "text": [
      "LSE\n",
      "JPMorgan ETFs (Ireland) ICAV - BetaBuilders US Equity UCITS ETF\n"
     ]
    },
    {
     "data": {
      "text/plain": [
       "dict_keys(['exchange', 'shortName', 'longName', 'exchangeTimezoneName', 'exchangeTimezoneShortName', 'isEsgPopulated', 'gmtOffSetMilliseconds', 'quoteType', 'symbol', 'messageBoardId', 'market', 'annualHoldingsTurnover', 'enterpriseToRevenue', 'beta3Year', 'profitMargins', 'enterpriseToEbitda', '52WeekChange', 'morningStarRiskRating', 'forwardEps', 'revenueQuarterlyGrowth', 'fundInceptionDate', 'annualReportExpenseRatio', 'totalAssets', 'bookValue', 'fundFamily', 'lastFiscalYearEnd', 'netIncomeToCommon', 'trailingEps', 'lastDividendValue', 'SandP52WeekChange', 'priceToBook', 'nextFiscalYearEnd', 'yield', 'mostRecentQuarter', 'enterpriseValue', 'priceHint', 'threeYearAverageReturn', 'lastSplitDate', 'lastSplitFactor', 'legalType', 'lastDividendDate', 'morningStarOverallRating', 'earningsQuarterlyGrowth', 'priceToSalesTrailing12Months', 'pegRatio', 'ytdReturn', 'forwardPE', 'maxAge', 'lastCapGain', 'category', 'fiveYearAverageReturn', 'phone', 'longBusinessSummary', 'companyOfficers', 'previousClose', 'regularMarketOpen', 'twoHundredDayAverage', 'trailingAnnualDividendYield', 'payoutRatio', 'volume24Hr', 'regularMarketDayHigh', 'navPrice', 'averageDailyVolume10Day', 'regularMarketPreviousClose', 'fiftyDayAverage', 'trailingAnnualDividendRate', 'open', 'toCurrency', 'averageVolume10days', 'expireDate', 'algorithm', 'dividendRate', 'exDividendDate', 'beta', 'circulatingSupply', 'startDate', 'regularMarketDayLow', 'currency', 'regularMarketVolume', 'lastMarket', 'maxSupply', 'openInterest', 'marketCap', 'volumeAllCurrencies', 'strikePrice', 'averageVolume', 'dayLow', 'ask', 'askSize', 'volume', 'fiftyTwoWeekHigh', 'fromCurrency', 'fiveYearAvgDividendYield', 'fiftyTwoWeekLow', 'bid', 'tradeable', 'dividendYield', 'bidSize', 'dayHigh', 'coinMarketCapLink', 'preferredPosition', 'bondPosition', 'convertiblePosition', 'sectorWeightings', 'holdings', 'bondHoldings', 'bondRatings', 'equityHoldings', 'otherPosition', 'cashPosition', 'stockPosition', 'regularMarketPrice', 'preMarketPrice', 'logo_url'])"
      ]
     },
     "execution_count": 63,
     "metadata": {},
     "output_type": "execute_result"
    }
   ],
   "source": [
    "t1 = yf.Ticker('BBDD.L')\n",
    "print(t1.info.get('exchange'))\n",
    "print(t1.info.get('longName'))\n",
    "t1.info.keys()"
   ]
  },
  {
   "cell_type": "code",
   "execution_count": 42,
   "metadata": {},
   "outputs": [],
   "source": [
    "def get_sector_info(ticker):\n",
    "    t1 = yf.Ticker(ticker)\n",
    "\n",
    "    info_dict = {\n",
    "    'Symbol': [ticker], \n",
    "    'Sector': [t1.info.get('sector')], \n",
    "    'Indutry': [t1.info.get('industry')],\n",
    "    'QuoteType': [t1.info.get('quoteType')]\n",
    "    }\n",
    "\n",
    "    return pd.DataFrame(info_dict)\n",
    "\n",
    "    \n",
    "    "
   ]
  },
  {
   "cell_type": "code",
   "execution_count": 46,
   "metadata": {},
   "outputs": [
    {
     "data": {
      "text/html": [
       "<div>\n",
       "<style scoped>\n",
       "    .dataframe tbody tr th:only-of-type {\n",
       "        vertical-align: middle;\n",
       "    }\n",
       "\n",
       "    .dataframe tbody tr th {\n",
       "        vertical-align: top;\n",
       "    }\n",
       "\n",
       "    .dataframe thead th {\n",
       "        text-align: right;\n",
       "    }\n",
       "</style>\n",
       "<table border=\"1\" class=\"dataframe\">\n",
       "  <thead>\n",
       "    <tr style=\"text-align: right;\">\n",
       "      <th></th>\n",
       "      <th>Symbol</th>\n",
       "      <th>Sector</th>\n",
       "      <th>Indutry</th>\n",
       "    </tr>\n",
       "  </thead>\n",
       "  <tbody>\n",
       "    <tr>\n",
       "      <th>0</th>\n",
       "      <td>ZGNX</td>\n",
       "      <td>None</td>\n",
       "      <td>None</td>\n",
       "    </tr>\n",
       "  </tbody>\n",
       "</table>\n",
       "</div>"
      ],
      "text/plain": [
       "  Symbol Sector Indutry\n",
       "0   ZGNX   None    None"
      ]
     },
     "execution_count": 46,
     "metadata": {},
     "output_type": "execute_result"
    }
   ],
   "source": [
    "df = get_sector_info('ZGNX')\n",
    "df"
   ]
  },
  {
   "cell_type": "code",
   "execution_count": 44,
   "metadata": {},
   "outputs": [],
   "source": [
    "symbols = pd.read_csv(f'data/nasdaq.csv', index_col=False)"
   ]
  },
  {
   "cell_type": "code",
   "execution_count": 64,
   "metadata": {},
   "outputs": [
    {
     "ename": "SyntaxError",
     "evalue": "invalid syntax (3632217199.py, line 2)",
     "output_type": "error",
     "traceback": [
      "\u001b[1;36m  Cell \u001b[1;32mIn [64], line 2\u001b[1;36m\u001b[0m\n\u001b[1;33m    'NASDAQ': {'Name':'NASDAQ Stock Exchange', 'Country':'USA', 'Suffix':''},\u001b[0m\n\u001b[1;37m            ^\u001b[0m\n\u001b[1;31mSyntaxError\u001b[0m\u001b[1;31m:\u001b[0m invalid syntax\n"
     ]
    }
   ],
   "source": [
    "yahoo_codes = [\n",
    "    {'Code': 'NASDAQ', 'Name':'NASDAQ Stock Exchange', 'Country':'USA', 'Suffix':''},\n",
    "    {'Code': 'AMEX', 'Name':'American Stock Exchange', 'Country':'USA', 'Suffix':''},\n",
    "    {'Code': 'ASX', 'Name':'Australian Stock Exchange', 'Country':'Australia', 'Suffix':'.AX'},\n",
    "    {'Code': 'LSE', 'Name':'London Stock Exchange', 'Country':'United Kingdom', 'Suffix':'.L'},\n",
    "    {'Code': 'NYSE', 'Name':'New York Stock Exchange', 'Country':'USA', 'Suffix':''},\n",
    "    {'Code': 'SGX', 'Name':'Singapore Stock Exchange', 'Country':'Republic of Singapore', 'Suffix':'.SI'},\n",
    "    {'Code': 'TSX', 'Name':'Toronto Stock Exchange', 'Country':'Canada', 'Suffix':'.TO'},\n",
    "    {'Code': 'TSXV', 'Name':'Toronto Venture Exchange', 'Country':'Canada', 'Suffix':'.V'},\n",
    "]"
   ]
  }
 ],
 "metadata": {
  "kernelspec": {
   "display_name": "Python 3.10.0 ('env': venv)",
   "language": "python",
   "name": "python3"
  },
  "language_info": {
   "codemirror_mode": {
    "name": "ipython",
    "version": 3
   },
   "file_extension": ".py",
   "mimetype": "text/x-python",
   "name": "python",
   "nbconvert_exporter": "python",
   "pygments_lexer": "ipython3",
   "version": "3.10.0"
  },
  "orig_nbformat": 4,
  "vscode": {
   "interpreter": {
    "hash": "104b1d4916f6566f9f0d67924234517bb3a4a8a900c6aa282551a376a69632a6"
   }
  }
 },
 "nbformat": 4,
 "nbformat_minor": 2
}
