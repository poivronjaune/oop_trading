{
 "cells": [
  {
   "cell_type": "markdown",
   "metadata": {},
   "source": [
    "# New notebook"
   ]
  },
  {
   "cell_type": "code",
   "execution_count": null,
   "metadata": {},
   "outputs": [],
   "source": [
    "import datetime\n",
    "\n",
    "import pandas as pd\n",
    "import sqlite3 as db\n",
    "import yfinance as yf\n",
    "\n",
    "from sqlalchemy import create_engine\n",
    "file_storage = \"test2\"\n"
   ]
  },
  {
   "cell_type": "code",
   "execution_count": null,
   "metadata": {},
   "outputs": [],
   "source": [
    "symbols_data = [\n",
    "        {\n",
    "            \"Symbol\": \"A\",\n",
    "            \"Name\": \"Agilent Technologies Inc\",\n",
    "            \"ListedDt\": datetime.datetime(2005, 1, 3).isoformat(),\n",
    "            \"LastDt\": datetime.datetime(2022, 9, 6).isoformat(),\n",
    "            \"Status\": \"Active\",\n",
    "        },\n",
    "        {\n",
    "            \"Symbol\": \"AA\",\n",
    "            \"Name\": \"Alcoa Corporation\",\n",
    "            \"ListedDt\": datetime.datetime(2016, 10, 18).isoformat(),\n",
    "            \"LastDt\": datetime.datetime(2022, 9, 6).isoformat(),\n",
    "            \"Status\": \"Active\",\n",
    "        },\n",
    "        {\n",
    "            \"Symbol\": \"ZGNX\",\n",
    "            \"Name\": \"Zogenix\",\n",
    "            \"ListedDt\": datetime.datetime(2010, 11, 23).isoformat(),\n",
    "            \"LastDt\": datetime.datetime(2022, 3, 4).isoformat(),\n",
    "            \"Status\": \"Active\",\n",
    "        }\n",
    "    ]\n",
    "\n",
    "update_data = [\n",
    "        {\n",
    "            \"Symbol\": \"AA\",\n",
    "            \"Name\": \"Updated Alcoa Corporation\",\n",
    "            \"ListedDt\": datetime.datetime(2022, 10, 18).isoformat(),\n",
    "            \"LastDt\": datetime.datetime(2022, 9, 6).isoformat(),\n",
    "            \"Status\": \"Active\",\n",
    "        },\n",
    "        {\n",
    "            \"Symbol\": \"ZGNX\",\n",
    "            \"Name\": \"Updated Zogenix\",\n",
    "            \"ListedDt\": datetime.datetime(2012, 11, 23).isoformat(),\n",
    "            \"LastDt\": datetime.datetime(2022, 3, 4).isoformat(),\n",
    "            \"Status\": \"Active\",\n",
    "        },\n",
    "        {\n",
    "            \"Symbol\": \"BC\",\n",
    "            \"Name\": \"Basic Company\",\n",
    "            \"ListedDt\": datetime.datetime(2021, 1, 1).isoformat(),\n",
    "            \"LastDt\": datetime.datetime(2022, 3, 4).isoformat(),\n",
    "            \"Status\": \"Active\",\n",
    "        }\n",
    "    ]"
   ]
  },
  {
   "cell_type": "code",
   "execution_count": null,
   "metadata": {},
   "outputs": [],
   "source": [
    "source = pd.DataFrame(symbols_data)\n",
    "new_data = pd.DataFrame(update_data)"
   ]
  },
  {
   "cell_type": "code",
   "execution_count": null,
   "metadata": {},
   "outputs": [],
   "source": [
    "suffixe_new = '_new'\n",
    "cols_old = source.columns\n",
    "cols_new = [f\"{col}{suffixe_new}\" for col in cols_old]\n",
    "cols_new[0] = cols_old[0]"
   ]
  },
  {
   "cell_type": "code",
   "execution_count": null,
   "metadata": {},
   "outputs": [],
   "source": [
    "cols_old"
   ]
  },
  {
   "cell_type": "code",
   "execution_count": null,
   "metadata": {},
   "outputs": [],
   "source": [
    "cols_new"
   ]
  },
  {
   "cell_type": "code",
   "execution_count": null,
   "metadata": {},
   "outputs": [],
   "source": [
    "merged = pd.merge(source, new_data, on='Symbol', how='outer', indicator=True, suffixes=['', '_new'])\n",
    "merged"
   ]
  },
  {
   "cell_type": "code",
   "execution_count": null,
   "metadata": {},
   "outputs": [],
   "source": [
    "old = merged.loc[merged._merge == 'left_only'][cols_old]\n",
    "old"
   ]
  },
  {
   "cell_type": "code",
   "execution_count": null,
   "metadata": {},
   "outputs": [],
   "source": [
    "updates = merged.loc[merged._merge == 'both'][cols_new]\n",
    "updates.columns = cols_old\n",
    "updates"
   ]
  },
  {
   "cell_type": "code",
   "execution_count": null,
   "metadata": {},
   "outputs": [],
   "source": [
    "new_sym = merged.loc[merged._merge == 'right_only'][cols_new]\n",
    "new_sym.columns = cols_old\n",
    "new_sym"
   ]
  },
  {
   "cell_type": "code",
   "execution_count": null,
   "metadata": {},
   "outputs": [],
   "source": [
    "new_save = pd.concat([old, updates, new_sym], ignore_index=True)\n",
    "new_save"
   ]
  },
  {
   "cell_type": "code",
   "execution_count": null,
   "metadata": {},
   "outputs": [],
   "source": [
    "df1 = pd.DataFrame(symbols_data)\n",
    "df2 = pd.DataFrame(update_data)\n",
    "set1 = set()\n",
    "set1.update(df1.Symbol)\n",
    "set1.update(df2.Symbol)\n",
    "set1\n"
   ]
  },
  {
   "cell_type": "markdown",
   "metadata": {},
   "source": [
    "# YAHOO SECTOR INFO"
   ]
  },
  {
   "cell_type": "code",
   "execution_count": 1,
   "metadata": {},
   "outputs": [],
   "source": [
    "import datetime\n",
    "\n",
    "import pandas as pd\n",
    "import yfinance as yf"
   ]
  },
  {
   "cell_type": "code",
   "execution_count": 2,
   "metadata": {},
   "outputs": [
    {
     "data": {
      "text/plain": [
       "{'regularMarketPrice': None, 'preMarketPrice': None, 'logo_url': ''}"
      ]
     },
     "execution_count": 2,
     "metadata": {},
     "output_type": "execute_result"
    }
   ],
   "source": [
    "t1 = yf.Ticker('ZGNX')\n",
    "t1.info"
   ]
  },
  {
   "cell_type": "code",
   "execution_count": null,
   "metadata": {},
   "outputs": [],
   "source": [
    "t1 = yf.Ticker('BBDD.L')\n",
    "print(t1.info.get('exchange'))\n",
    "print(t1.info.get('longName'))\n",
    "t1.info.keys()"
   ]
  },
  {
   "cell_type": "code",
   "execution_count": 3,
   "metadata": {},
   "outputs": [],
   "source": [
    "def get_sector_info(ticker):\n",
    "    t1 = yf.Ticker(ticker)\n",
    "\n",
    "    info_dict = {\n",
    "    'Symbol': [ticker], \n",
    "    'Sector': [t1.info.get('sector')], \n",
    "    'Indutry': [t1.info.get('industry')],\n",
    "    'QuoteType': [t1.info.get('quoteType')]\n",
    "    }\n",
    "\n",
    "    return pd.DataFrame(info_dict)\n",
    "\n",
    "    \n",
    "    "
   ]
  },
  {
   "cell_type": "code",
   "execution_count": 5,
   "metadata": {},
   "outputs": [
    {
     "data": {
      "text/html": [
       "<div>\n",
       "<style scoped>\n",
       "    .dataframe tbody tr th:only-of-type {\n",
       "        vertical-align: middle;\n",
       "    }\n",
       "\n",
       "    .dataframe tbody tr th {\n",
       "        vertical-align: top;\n",
       "    }\n",
       "\n",
       "    .dataframe thead th {\n",
       "        text-align: right;\n",
       "    }\n",
       "</style>\n",
       "<table border=\"1\" class=\"dataframe\">\n",
       "  <thead>\n",
       "    <tr style=\"text-align: right;\">\n",
       "      <th></th>\n",
       "      <th>Symbol</th>\n",
       "      <th>Sector</th>\n",
       "      <th>Indutry</th>\n",
       "      <th>QuoteType</th>\n",
       "    </tr>\n",
       "  </thead>\n",
       "  <tbody>\n",
       "    <tr>\n",
       "      <th>0</th>\n",
       "      <td>TSLA</td>\n",
       "      <td>Consumer Cyclical</td>\n",
       "      <td>Auto Manufacturers</td>\n",
       "      <td>EQUITY</td>\n",
       "    </tr>\n",
       "  </tbody>\n",
       "</table>\n",
       "</div>"
      ],
      "text/plain": [
       "  Symbol             Sector             Indutry QuoteType\n",
       "0   TSLA  Consumer Cyclical  Auto Manufacturers    EQUITY"
      ]
     },
     "execution_count": 5,
     "metadata": {},
     "output_type": "execute_result"
    }
   ],
   "source": [
    "df = get_sector_info('TSLA')\n",
    "df"
   ]
  },
  {
   "cell_type": "code",
   "execution_count": 6,
   "metadata": {},
   "outputs": [],
   "source": [
    "symbols = pd.read_csv(f'data/nasdaq.csv', index_col=False)"
   ]
  },
  {
   "cell_type": "code",
   "execution_count": null,
   "metadata": {},
   "outputs": [],
   "source": [
    "yahoo_codes = [\n",
    "    {'Code': 'NASDAQ', 'Name':'NASDAQ Stock Exchange', 'Country':'USA', 'Suffix':''},\n",
    "    {'Code': 'AMEX', 'Name':'American Stock Exchange', 'Country':'USA', 'Suffix':''},\n",
    "    {'Code': 'ASX', 'Name':'Australian Stock Exchange', 'Country':'Australia', 'Suffix':'.AX'},\n",
    "    {'Code': 'LSE', 'Name':'London Stock Exchange', 'Country':'United Kingdom', 'Suffix':'.L'},\n",
    "    {'Code': 'NYSE', 'Name':'New York Stock Exchange', 'Country':'USA', 'Suffix':''},\n",
    "    {'Code': 'SGX', 'Name':'Singapore Stock Exchange', 'Country':'Republic of Singapore', 'Suffix':'.SI'},\n",
    "    {'Code': 'TSX', 'Name':'Toronto Stock Exchange', 'Country':'Canada', 'Suffix':'.TO'},\n",
    "    {'Code': 'TSXV', 'Name':'Toronto Venture Exchange', 'Country':'Canada', 'Suffix':'.V'},\n",
    "]"
   ]
  },
  {
   "cell_type": "code",
   "execution_count": 1,
   "metadata": {},
   "outputs": [],
   "source": [
    "from backtest_lib.symbols import OnlineSymbolsSource, EndOfDayData, FirstRateData\n"
   ]
  },
  {
   "cell_type": "code",
   "execution_count": 2,
   "metadata": {},
   "outputs": [],
   "source": [
    "df = EndOfDayData(exchange='NASDAQ')\n",
    "df.load_from_csv('data','nasdaq.csv')\n",
    "df.augment_symbols_data()\n",
    "#print(df.data)"
   ]
  }
 ],
 "metadata": {
  "kernelspec": {
   "display_name": "Python 3.10.0 ('env': venv)",
   "language": "python",
   "name": "python3"
  },
  "language_info": {
   "codemirror_mode": {
    "name": "ipython",
    "version": 3
   },
   "file_extension": ".py",
   "mimetype": "text/x-python",
   "name": "python",
   "nbconvert_exporter": "python",
   "pygments_lexer": "ipython3",
   "version": "3.10.0"
  },
  "orig_nbformat": 4,
  "vscode": {
   "interpreter": {
    "hash": "104b1d4916f6566f9f0d67924234517bb3a4a8a900c6aa282551a376a69632a6"
   }
  }
 },
 "nbformat": 4,
 "nbformat_minor": 2
}
